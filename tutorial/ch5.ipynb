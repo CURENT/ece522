{
 "cells": [
  {
   "attachments": {},
   "cell_type": "markdown",
   "metadata": {},
   "source": [
    "# Chapter 5 - Model Development of An Close-loop PI Controller"
   ]
  },
  {
   "attachments": {},
   "cell_type": "markdown",
   "metadata": {},
   "source": [
    "## Introduction"
   ]
  },
  {
   "attachments": {},
   "cell_type": "markdown",
   "metadata": {},
   "source": [
    "In previous chapter, you have gone through the model development of an open-loop PI controller.\n",
    "\n",
    "In this chapter, you will develop a clsoe-loop PI controller ``CLPI`` that feedbacks to the system by extending ``OLPI``."
   ]
  },
  {
   "cell_type": "markdown",
   "metadata": {},
   "source": [
    "## Objective"
   ]
  },
  {
   "attachments": {},
   "cell_type": "markdown",
   "metadata": {},
   "source": [
    "In this exercise, you will:\n",
    "- Develop an close-loop PI controller"
   ]
  },
  {
   "attachments": {},
   "cell_type": "markdown",
   "metadata": {},
   "source": [
    "## Submission"
   ]
  },
  {
   "attachments": {},
   "cell_type": "markdown",
   "metadata": {},
   "source": [
    "After complete the chapter, please save and submit this jupyter notebook file in **CANVAS** with **FORMATTED** name:\n",
    "\n",
    "`FirstName_LastName_NetID_ChID.ipynb`, for example, `Tim_Cook_tcook3_Ch5.ipynb`."
   ]
  },
  {
   "attachments": {},
   "cell_type": "markdown",
   "metadata": {},
   "source": [
    "## Model Development"
   ]
  },
  {
   "attachments": {},
   "cell_type": "markdown",
   "metadata": {},
   "source": [
    "In this chapter, you will extend the existing model ``OLPI`` as an close-loop PI controller ``CLPI``.\n",
    "\n",
    "### Model Design\n",
    "\n",
    "The model ``CLPI`` is an clsoe-loop PI controller that takes Generator speed deviation `wd` as input, and feedbacks to Turbine Governor power reference ``pref``.\n",
    "\n",
    "In such way, the model ``CLPI`` aims to regualte the Generator speed deviation ``wd``. Therefore, the model ``CLPI`` is actually a secondary frequency regulator.\n",
    "\n",
    "### Working Branch\n",
    "\n",
    "You can continue to work on the branch ``olpi``.\n",
    "\n",
    "### Model Implementation\n",
    "\n",
    "The model code is located in the directory ``$HOME/andes/andes/models/misc/clpi.py``.\n",
    "\n",
    "#### CLPIData\n",
    "\n",
    "Model ``CLPI`` holds the same data as model ``OLPI``.\n",
    "\n",
    "#### CLPIModel\n",
    "\n",
    "Compared to ``OLPIModel``, ``CLPIModel`` needs an ``ExtAlgeb`` to feedback the PI controller output to the Turbine Governor power reference. \n",
    "\n",
    "```python\n",
    "class CLPIModel(Model):\n",
    "    \"\"\"\n",
    "    Implementation for close-loop PI controller.\n",
    "    \"\"\"\n",
    "\n",
    "    def __init__(self, system, config):\n",
    "        Model.__init__(self, system, config)\n",
    "        self.group = 'Experimental'\n",
    "        self.flags.tds = True\n",
    "\n",
    "        self.wd = ExtAlgeb(model='TurbineGov', src='pout', indexer=self.gov,\n",
    "                           info='Generator speed deviation',\n",
    "                           unit='p.u.',\n",
    "                           tex_name=r'\\omega_{dev}',\n",
    "                           )\n",
    "        self.pout = ExtAlgeb(model='TurbineGov', src='pout', indexer=self.gov,\n",
    "                             tex_name='P_{out}',\n",
    "                             info='Turbine governor output',\n",
    "                             )\n",
    "        self.pout0 = ConstService(v_str='pout',\n",
    "                                  tex_name='P_{out0}',\n",
    "                                  info='initial turbine governor output',\n",
    "                                  )\n",
    "        self.PID = PIDController(u=self.wd, kp=self.kP, ki=self.kI,\n",
    "                                 kd=self.kD, Td=self.tD,\n",
    "                                 tex_name='PID', info='PID', name='PID',\n",
    "                                 ref=self.pout0,\n",
    "                                 )\n",
    "        self.pref = ExtAlgeb(indexer=self.gov,\n",
    "                             tex_name='P_{ref}',\n",
    "                             info='Turbine governor output',\n",
    "                             # model=<**ANSWER**>,\n",
    "                             # src=<**ANSWER**>,\n",
    "                             # e_str=<**ANSWER**>,\n",
    "                             # v_str=<**ANSWER**>,\n",
    "                             )\n",
    "```\n",
    "In ``CLPIModel``, ``pref`` is the ***feedback*** to the Turbine Governor.\n",
    "\n",
    "#### Model Finalization\n",
    "\n",
    "Similar to assembling ``OLPI``, you can assemble ``CLPIData`` and ``CLPIModel`` into ``CLPI``."
   ]
  },
  {
   "attachments": {},
   "cell_type": "markdown",
   "metadata": {},
   "source": [
    "### Model Test"
   ]
  },
  {
   "attachments": {},
   "cell_type": "markdown",
   "metadata": {},
   "source": [
    "Since ``CLPI`` takes exactly the same parameters input as ``OLPI``, you can revise the test case ``ieee14_olpi.xlsx`` by changing the model name from ``OLPI`` to ``CLPI``."
   ]
  },
  {
   "cell_type": "code",
   "execution_count": null,
   "metadata": {},
   "outputs": [],
   "source": [
    "import matplotlib.pyplot as plt\n",
    "import andes\n",
    "andes.config_logger(stream_level=20)\n",
    "\n",
    "%matplotlib inline\n"
   ]
  },
  {
   "cell_type": "code",
   "execution_count": null,
   "metadata": {},
   "outputs": [],
   "source": [
    "ss = andes.run(andes.get_case('ieee14/ieee14_clpi.xlsx'),\n",
    "               default_config=True,\n",
    "               no_output=True,\n",
    "               setup=False)\n"
   ]
  },
  {
   "cell_type": "code",
   "execution_count": null,
   "metadata": {},
   "outputs": [],
   "source": [
    "ss.add('Toggle', dict(model=\"GENROU\", dev='GENROU_5', t=1.0))"
   ]
  },
  {
   "cell_type": "code",
   "execution_count": null,
   "metadata": {},
   "outputs": [],
   "source": [
    "ss.setup()"
   ]
  },
  {
   "cell_type": "code",
   "execution_count": null,
   "metadata": {},
   "outputs": [],
   "source": [
    "ss.Toggle.u.v[[0, 1]] = 0"
   ]
  },
  {
   "cell_type": "code",
   "execution_count": null,
   "metadata": {},
   "outputs": [],
   "source": [
    "ss.CLPI.as_df()"
   ]
  },
  {
   "cell_type": "code",
   "execution_count": null,
   "metadata": {},
   "outputs": [],
   "source": [
    "ss.PFlow.run()"
   ]
  },
  {
   "cell_type": "code",
   "execution_count": null,
   "metadata": {},
   "outputs": [],
   "source": [
    "ss_init = ss.TDS.init()"
   ]
  },
  {
   "cell_type": "code",
   "execution_count": null,
   "metadata": {},
   "outputs": [],
   "source": [
    "ss.TDS.config.tf = 20\n",
    "ss.TDS.config.criteria = 0\n",
    "ss.TDS.run()"
   ]
  },
  {
   "attachments": {},
   "cell_type": "markdown",
   "metadata": {},
   "source": [
    "Here we rerun the open-loop PI controller test case as a comparasion."
   ]
  },
  {
   "cell_type": "code",
   "execution_count": null,
   "metadata": {},
   "outputs": [],
   "source": [
    "ss_ol = andes.run(andes.get_case('ieee14/ieee14_olpi.xlsx'),\n",
    "                  default_config=True,\n",
    "                  no_output=True,\n",
    "                  setup=False)\n",
    "\n",
    "ss_ol.add('Toggle', dict(model=\"GENROU\", dev='GENROU_5', t=1.0))\n",
    "ss_ol.setup()\n",
    "ss_ol.Toggle.u.v[[0, 1]] = 0\n",
    "\n",
    "ss_ol.PFlow.run()\n",
    "ss_ol_init = ss_ol.TDS.init()\n",
    "\n",
    "ss_ol.TDS.config.tf = 20\n",
    "ss_ol.TDS.config.criteria = 0\n",
    "ss_ol.TDS.run()"
   ]
  },
  {
   "cell_type": "code",
   "execution_count": null,
   "metadata": {},
   "outputs": [],
   "source": [
    "fig, ax = plt.subplots(2, 2, figsize=(10, 8))\n",
    "plt.subplots_adjust(wspace=0.3, hspace=0.3)\n",
    "\n",
    "cl = 'Close-loop PID'\n",
    "ol = 'Open-loop PID'\n",
    "\n",
    "ss.TDS.plt.plot(ss.TGOV1.pout,\n",
    "                a=(0), yheader=[cl],\n",
    "                color=['black'], linestyles=['-'],\n",
    "                fig=fig, ax=ax[0, 0], show=False,\n",
    "                grid=True,\n",
    "                )\n",
    "ss.TDS.plt.plot(ss.GENROU.omega,\n",
    "                a=(0), yheader=[cl],\n",
    "                color=['black'], linestyles=['-'],\n",
    "                fig=fig, ax=ax[0, 1], show=False,\n",
    "                grid=True, ytimes=60, ymin=59.6,\n",
    "                )\n",
    "ss.TDS.plt.plot(ss.CLPI.PID.u,\n",
    "                yheader=[cl],\n",
    "                color=['black'], linestyles=['-'],\n",
    "                fig=fig, ax=ax[1, 0], show=False,\n",
    "                grid=True,\n",
    "                )\n",
    "ss.TDS.plt.plot(ss.CLPI.PID_y,\n",
    "                yheader=[cl],\n",
    "                color=['black'], linestyles=['-'],\n",
    "                fig=fig, ax=ax[1, 1], show=False,\n",
    "                grid=True,\n",
    "                )\n",
    "\n",
    "ss_ol.TDS.plt.plot(ss_ol.TGOV1.pout,\n",
    "                   a=(0), yheader=[ol],\n",
    "                   color=['red'], linestyles=['--'],\n",
    "                   fig=fig, ax=ax[0, 0], show=False,\n",
    "                   grid=True,\n",
    "                   title='TGOV1_1 Output Power',\n",
    "                   ylabel='Active Power [p.u.]',\n",
    "                   )\n",
    "ss_ol.TDS.plt.plot(ss_ol.GENROU.omega,\n",
    "                   a=(0), yheader=[ol],\n",
    "                   color=['red'], linestyles=['--'],\n",
    "                   fig=fig, ax=ax[0, 1], show=False,\n",
    "                   grid=True, ytimes=60,\n",
    "                   title='GENROU_1 Frequency',\n",
    "                   ylabel='Frequency [Hz]',\n",
    "                   )\n",
    "ss_ol.TDS.plt.plot(ss_ol.OLPI.PID.u,\n",
    "                   yheader=[ol, 'Ref'],\n",
    "                   color=['red'], linestyles=['-'],\n",
    "                   fig=fig, ax=ax[1, 0], show=False,\n",
    "                   grid=True,\n",
    "                   title='PID Input',\n",
    "                   )\n",
    "ss_ol.TDS.plt.plot(ss_ol.OLPI.PID_y,\n",
    "                   yheader=[ol],\n",
    "                   color=['red'], linestyles=['--'],\n",
    "                   fig=fig, ax=ax[1, 1], show=False,\n",
    "                   grid=True,\n",
    "                   title='PID Output',\n",
    "                   )"
   ]
  },
  {
   "attachments": {},
   "cell_type": "markdown",
   "metadata": {},
   "source": [
    "From the above figure \"TGOV1_1 Output Power\", it can be seen that compared to ``OLPI``, ``CLPI`` is able to regulate the Generator speed deviation ``wd``.\n",
    "\n",
    "As shown in \"GENROU1_1 Frequency\", although the ``CLPI`` is actually a neither ``OLPI`` nor ``CLPI`` is able to regulate the frequency to nominal value ``60``Hz. This is because the TGOV1_1 has reached the upper limiter ``VMAX``, as shown below, the first value of flag ``TGOV1.LAG_lim.zu`` is ``1``."
   ]
  },
  {
   "cell_type": "code",
   "execution_count": null,
   "metadata": {},
   "outputs": [],
   "source": [
    "ss.TGOV1.LAG_lim.zu"
   ]
  }
 ],
 "metadata": {
  "kernelspec": {
   "display_name": "Python3",
   "language": "python",
   "name": "andes"
  },
  "language_info": {
   "codemirror_mode": {
    "name": "ipython",
    "version": 3
   },
   "file_extension": ".py",
   "mimetype": "text/x-python",
   "name": "python",
   "nbconvert_exporter": "python",
   "pygments_lexer": "ipython3",
   "version": "3.9.12 | packaged by conda-forge | (main, Mar 24 2022, 23:24:38) \n[Clang 12.0.1 ]"
  },
  "orig_nbformat": 4,
  "vscode": {
   "interpreter": {
    "hash": "ef6cb5c8d99d66a3614f491d51fd40cd94c9138687df3d2045e3a510da5efc66"
   }
  }
 },
 "nbformat": 4,
 "nbformat_minor": 2
}
