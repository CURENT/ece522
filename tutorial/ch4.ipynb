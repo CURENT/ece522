{
 "cells": [
  {
   "attachments": {},
   "cell_type": "markdown",
   "metadata": {},
   "source": [
    "# Chapter 4 - Model Development of An Open-loop PI Controller"
   ]
  },
  {
   "attachments": {},
   "cell_type": "markdown",
   "metadata": {},
   "source": [
    "## Introduction"
   ]
  },
  {
   "attachments": {},
   "cell_type": "markdown",
   "metadata": {},
   "source": [
    "> [Development - Models](https://docs.andes.app/en/latest/modeling/models.html#models). The terminology \"model\" is used to describe the mathematical representation of a type of device, such as synchronous generators or turbine governors. The terminology \"device\" is used to describe a particular instance of a model, for example, a specific generator. To define a model in ANDES, two classes, ``ModelData`` and ``Model`` need to be utilized. Class ``ModelData`` is used for defining parameters that will be provided from input files. It provides API for adding data from devices and managing the data. Class ``Model`` is used for defining other non-input parameters, service variables, and DAE variables. It provides API for converting symbolic equations, storing Jacobian patterns, and updating equations.\n",
    "\n",
    "In this chapter, you will learn to develop a dynamic model in ANDES."
   ]
  },
  {
   "cell_type": "markdown",
   "metadata": {},
   "source": [
    "## Objective"
   ]
  },
  {
   "attachments": {},
   "cell_type": "markdown",
   "metadata": {},
   "source": [
    "In this chapter, you will:\n",
    "- Go through the model development workflow\n",
    "- Develop an open-loop PI controller"
   ]
  },
  {
   "attachments": {},
   "cell_type": "markdown",
   "metadata": {},
   "source": [
    "## Submission"
   ]
  },
  {
   "attachments": {},
   "cell_type": "markdown",
   "metadata": {},
   "source": [
    "After complete the chapter, please save and submit this jupyter notebook file in **CANVAS** with **FORMATTED** name:\n",
    "\n",
    "`FirstName_LastName_NetID_ChID.ipynb`, for example, `Tim_Cook_tcook3_Ch4.ipynb`."
   ]
  },
  {
   "attachments": {},
   "cell_type": "markdown",
   "metadata": {},
   "source": [
    "# Code Server\n",
    "\n",
    "You will use the blue \"+\" button to start a \"Code Server\" session in the\n",
    "browser. If you ever used VS Code, this is a modified version of VS Code. Using\n",
    "this online version will save you some time to configure the environment. \n",
    "\n",
    "You will use the top menu button to open the project folder. Select \"File - Open\n",
    "Folder\" and open `/home/jovyan/repos/andes`. Code Server will reload, you will\n",
    "need to Trust the Author of the notebook to run the code.\n"
   ]
  },
  {
   "attachments": {},
   "cell_type": "markdown",
   "metadata": {},
   "source": [
    "## Model Development"
   ]
  },
  {
   "attachments": {},
   "cell_type": "markdown",
   "metadata": {},
   "source": [
    "In this chapter, you will use the existing ``block`` [PIController](https://docs.andes.app/en/latest/modeling/block.html#pi-controllers) in ANDES to develop the ``model`` open loop PI controller.\n",
    "You need to read the [examples of modeling](https://docs.andes.app/en/stable/modeling/examples.html) and then finish the exercise below.\n",
    "\n",
    "### Model Design\n",
    "\n",
    "The model ``OLPI`` is an open-loop PI controller that takes Generator speed deviation `wd` as input.\n",
    "The block diagrams is shown below:\n",
    "```\n",
    "     ┌────────────────────┐\n",
    "     │      ki     skd    │\n",
    "u -> │kp + ─── + ───────  │ -> y\n",
    "     │      s    1 + sTd  │\n",
    "     └────────────────────┘\n",
    "```\n",
    "\n",
    "### Working Branch\n",
    "\n",
    "To keep a tidy work environment, you need to create a **git branch** named ``olpi`` from the most recent **develop** branch by command: ``git checkout -b olpi develop``.\n",
    "The model development should be done in the ``olpi`` branch.\n",
    "\n",
    "### Model Implementation\n",
    "\n",
    "You will need to copy the provided `olpi.py` to the directory ``$HOME/repos/andes/andes/models/experimental/olpi.py``.\n",
    "\n",
    "The model ``OLPI`` is a PI controller with gain ``kP`` and integral constant ``kI``. You can take advantage of the existing ``block`` [PIDController](https://docs.andes.app/en/latest/modeling/block.html#pi-controllers).\n",
    "\n",
    "In the file ``olpi.py``, two classes, ``OLPIData`` and ``OLPIModel`` are used.\n",
    "\n",
    "#### OLPIData\n",
    "\n",
    "```python\n",
    "class OLPIData(ModelData):\n",
    "    \"\"\"\n",
    "    Data for open-loop PI controller..\n",
    "    \"\"\"\n",
    "\n",
    "    def __init__(self):\n",
    "        super().__init__()\n",
    "        self.gov = IdxParam(model='TurbineGov',\n",
    "                            info='Turbine governor idx',\n",
    "                            mandatory=True,\n",
    "                            )\n",
    "        self.kP = NumParam(info='PID proportional coeff.',\n",
    "                           tex_name='k_P',\n",
    "                           default=1,\n",
    "                           )\n",
    "        self.kI = NumParam(info='PID integrative coeff.',\n",
    "                           tex_name='k_I',\n",
    "                           default=1,\n",
    "                           )\n",
    "        self.kD = NumParam(info='PID derivative coeff.',\n",
    "                           tex_name='k_D',\n",
    "                           default=0,\n",
    "                           )\n",
    "        self.tD = NumParam(info='PID derivative time constant coeff.',\n",
    "                           tex_name='t_D',\n",
    "                           default=0,\n",
    "                           )\n",
    "```\n",
    "``gov`` is ``IdxParam`` storing ``idx`` of other models.\n",
    "``kP``, ``kI``, ``kD``, and ``tD`` are ``NumParam`` storing the proportional gain and integral gain, respectively.\n",
    "\n",
    "There are other types *Prameters* that not included in this model, such as ``DataParam``, ``ExtParam``, and ``TimerParam``. You can find more details in [Development - Parameters](https://docs.andes.app/en/latest/modeling/parameters.html).\n",
    "\n",
    "#### OLPIModel\n",
    "\n",
    "```python\n",
    "class OLPIModel(Model):\n",
    "    \"\"\"\n",
    "    Implementation for open-loop PI controller.\n",
    "    \"\"\"\n",
    "\n",
    "    def __init__(self, system, config):\n",
    "        Model.__init__(self, system, config)\n",
    "        self.group = 'Experimental'\n",
    "        self.flags.tds = True\n",
    "\n",
    "        self.wd = ExtAlgeb(model='TurbineGov', src='pout', indexer=self.gov,\n",
    "                           info='Generator speed deviation',\n",
    "                           unit='p.u.',\n",
    "                           tex_name=r'\\omega_{dev}',\n",
    "                           )\n",
    "        self.pout = ExtAlgeb(model='TurbineGov', src='pout', indexer=self.gov,\n",
    "                             tex_name='P_{out}',\n",
    "                             info='Turbine governor output',\n",
    "                             )\n",
    "        self.pout0 = ConstService(v_str='pout',\n",
    "                                  tex_name='P_{out0}',\n",
    "                                  info='initial turbine governor output',\n",
    "                                  )\n",
    "        self.PID = PIDController(u=self.wd, kp=self.kP, ki=self.kI,\n",
    "                                 kd=self.kD, Td=self.tD,\n",
    "                                 tex_name='PID', info='PID', name='PID',\n",
    "                                 ref=self.pout0,\n",
    "                                 )\n",
    "```\n",
    "``wd`` is a ``ExtAlgeb`` that represents Generator speed deviation.\n",
    "``pout`` is a ``ExtAlgeb`` that represents the turbine governor output.\n",
    "``pout0`` is a ``ConstService`` that stores the initial turbine governor output.\n",
    "``PID`` is a block ``PIDController`` that takes ``pout`` as input.\n",
    "\n",
    "``ExtAlgeb`` and ``ExtState`` are the bridges that connects different models. They take an input parameter ``indexer`` to identify the target model.\n",
    "\n",
    "There are other types *Variables* that not included in this model, such as ``State``, ``Algeb``, and ``ExtState``. You can find more details in [Development - Variables](https://docs.andes.app/en/latest/modeling/variables.html).\n",
    "\n",
    "Besides, *Services*, *Discrete*, and *Blocks* are also used in the model. You can find more details in [Development](https://docs.andes.app/en/latest/modeling/index.html).\n",
    "\n",
    "#### Model Finalization\n",
    "\n",
    "Then, you can assemble ``OLPIData`` and ``OLPIModel`` into ``OLPI``.\n",
    "```python\n",
    "class OLPI(OLPIData, OLPIModel):\n",
    "    r\"\"\"\n",
    "    Open-loop PI controller that takes Generator speed deviation as input.\n",
    "\n",
    "    ```\n",
    "        ┌────────────────────┐\n",
    "        │      ki     skd    │\n",
    "    u ->│kp + ─── + ───────  │ -> y\n",
    "        │      s    1 + sTd  │\n",
    "        └────────────────────┘\n",
    "    ```\n",
    "    \"\"\"\n",
    "\n",
    "    def __init__(self, system, config):\n",
    "        OLPIData.__init__(self)\n",
    "        OLPIModel.__init__(self, system, config)\n",
    "```\n",
    "\n",
    "In ``andes/models/__init__.py``, ``file_classes`` holds the class names to be imported. In the line `experiemntal`, you can add the newly developed model ``OLPI`` into it."
   ]
  },
  {
   "attachments": {},
   "cell_type": "markdown",
   "metadata": {},
   "source": [
    "### Model Test"
   ]
  },
  {
   "attachments": {},
   "cell_type": "markdown",
   "metadata": {},
   "source": [
    "After the code implementation, the model ``OLPI`` needs to be tested.\n",
    "\n",
    "Test case ``ieee14_olpi.xlsx`` is revised from [ieee14/ieee14_ace.xlsx](https://github.com/cuihantao/andes/blob/master/andes/cases/ieee14/ieee14_ace.xlsx).\n",
    "\n",
    "Re-generate the pycode by run ``andes prep`` in terminal. Sometimes there occur multi-functionalities, where you may need `andes prep -f` to re-generate all model code.\n",
    "\n",
    "Load the test case, and run the ``ss.TDS.init()`` to see if the initialization is successful."
   ]
  },
  {
   "cell_type": "code",
   "execution_count": null,
   "metadata": {},
   "outputs": [],
   "source": [
    "import andes\n",
    "andes.config_logger(stream_level=20)\n",
    "\n",
    "import matplotlib.pyplot as plt\n",
    "%matplotlib inline"
   ]
  },
  {
   "cell_type": "code",
   "execution_count": null,
   "metadata": {},
   "outputs": [],
   "source": [
    "ss = andes.run('./case/ieee14_olpi.xlsx',\n",
    "               default_config=True,\n",
    "               no_output=True,\n",
    "               setup=False)"
   ]
  },
  {
   "cell_type": "code",
   "execution_count": null,
   "metadata": {},
   "outputs": [],
   "source": [
    "ss.add('Toggle', dict(model=\"GENROU\", dev='GENROU_5', t=1.0))"
   ]
  },
  {
   "cell_type": "code",
   "execution_count": null,
   "metadata": {},
   "outputs": [],
   "source": [
    "ss.setup()"
   ]
  },
  {
   "cell_type": "code",
   "execution_count": null,
   "metadata": {},
   "outputs": [],
   "source": [
    "ss.OLPI.as_df()"
   ]
  },
  {
   "cell_type": "code",
   "execution_count": null,
   "metadata": {},
   "outputs": [],
   "source": [
    "ss.PFlow.run()"
   ]
  },
  {
   "cell_type": "code",
   "execution_count": null,
   "metadata": {},
   "outputs": [],
   "source": [
    "ss_init = ss.TDS.init()"
   ]
  },
  {
   "cell_type": "code",
   "execution_count": null,
   "metadata": {},
   "outputs": [],
   "source": [
    "ss.TDS.config.tf = 20\n",
    "ss.TDS.config.criteria = 0\n",
    "ss.TDS.run()"
   ]
  },
  {
   "cell_type": "code",
   "execution_count": null,
   "metadata": {},
   "outputs": [],
   "source": [
    "fig, ax = plt.subplots(2, 2, figsize=(10, 8))\n",
    "plt.subplots_adjust(wspace=0.3, hspace=0.3)\n",
    "\n",
    "ss.TDS.plt.plot(ss.TGOV1.pout,\n",
    "                fig=fig, ax=ax[0, 0], show=False,\n",
    "                grid=True,\n",
    "                title='Turbine Governor Output Power',\n",
    "                ylabel='Active Power [p.u.]',\n",
    "                )\n",
    "ss.TDS.plt.plot(ss.GENROU.omega,\n",
    "                fig=fig, ax=ax[0, 1], show=False,\n",
    "                grid=True, ytimes=60,\n",
    "                title='Generator Frequency',\n",
    "                ylabel='Frequency [Hz]',\n",
    "                )\n",
    "ss.TDS.plt.plot(ss.OLPI.PID.u,\n",
    "                legend=False,\n",
    "                hline=[ss.OLPI.PID.ref.v],\n",
    "                fig=fig, ax=ax[1, 0], show=False,\n",
    "                grid=True,\n",
    "                title='OLPI Input',\n",
    "                )\n",
    "ss.TDS.plt.plot(ss.OLPI.PID_y,\n",
    "                legend=False,\n",
    "                fig=fig, ax=ax[1, 1], show=False,\n",
    "                grid=True,\n",
    "                title='OLPI Output',\n",
    "                )"
   ]
  },
  {
   "attachments": {},
   "cell_type": "markdown",
   "metadata": {},
   "source": [
    "From the above figure, it can be seen that ``OLPI`` can response to the input signal correctly."
   ]
  }
 ],
 "metadata": {
  "kernelspec": {
   "display_name": "a",
   "language": "python",
   "name": "python3"
  },
  "language_info": {
   "codemirror_mode": {
    "name": "ipython",
    "version": 3
   },
   "file_extension": ".py",
   "mimetype": "text/x-python",
   "name": "python",
   "nbconvert_exporter": "python",
   "pygments_lexer": "ipython3",
   "version": "3.9.19"
  },
  "orig_nbformat": 4,
  "vscode": {
   "interpreter": {
    "hash": "9e82087c6c724a796d11bbbca032c2fea9f2a8500ea883496f2915648d5c9903"
   }
  }
 },
 "nbformat": 4,
 "nbformat_minor": 2
}
