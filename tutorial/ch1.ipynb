{
 "cells": [
  {
   "attachments": {},
   "cell_type": "markdown",
   "metadata": {},
   "source": [
    "# Chapter 1 - Getting Started with ANDES"
   ]
  },
  {
   "attachments": {},
   "cell_type": "markdown",
   "metadata": {},
   "source": [
    "## Introduction"
   ]
  },
  {
   "attachments": {},
   "cell_type": "markdown",
   "metadata": {},
   "source": [
    "1. What is ANDES?\n",
    "\n",
    "    ANDES is an open-source Python library for power system modeling, computation, analysis, and control. It supports power flows calculation, transient stability simulation, and small-signal stability analysis for transmission systems. ANDES implements a symbolic-numeric framework for rapid prototyping of differential-algebraic equation-based models. In this framework, a comprehensive library of models is developed, including the full second-generation renewable models. Models in ANDES have been verified with commercial software.\n",
    "\n",
    "    ANDES is the core simulation engine for the CURENT Largescale Testbed (LTB). More information about CURENT LTB can be found at the [LTB Repository](https://github.com/CURENT/ltb2).\n",
    "\n",
    "    [ANDES Documentation](https://docs.andes.app/en/latest/) is the main reference for ANDES.\n",
    "\n",
    "1. Have question or feedback of ANDES?\n",
    "\n",
    "    You can post it on the [Discussion](https://github.com/cuihantao/andes/discussions).\n",
    "\n",
    "1. Need reference of existing models?\n",
    "\n",
    "    All models in ANDES are documented in the [Model reference](https://docs.andes.app/en/latest/modelref.html).\n",
    "\n",
    "    For further reference such as transfer function diagrams, most of them can be found online such as **ESIG** and **PowerWorld**."
   ]
  },
  {
   "attachments": {},
   "cell_type": "markdown",
   "metadata": {},
   "source": [
    "## Objective"
   ]
  },
  {
   "attachments": {},
   "cell_type": "markdown",
   "metadata": {},
   "source": [
    "In this chapter, you will learn the basic usage of ANDES:\n",
    "- Run simulation\n",
    "- Plot results\n",
    "- Look up documentation"
   ]
  },
  {
   "attachments": {},
   "cell_type": "markdown",
   "metadata": {},
   "source": [
    "## Submission"
   ]
  },
  {
   "attachments": {},
   "cell_type": "markdown",
   "metadata": {},
   "source": [
    "After complete the chapter, please save and submit this jupyter notebook file in **CANVAS** with **FORMATTED** name:\n",
    "\n",
    "`FirstName_LastName_NetID_ChID.ipynb`, for example, `Tim_Cook_tcook3_Ch1.ipynb`."
   ]
  },
  {
   "attachments": {},
   "cell_type": "markdown",
   "metadata": {},
   "source": [
    "# Preparation for a Development Installation\n",
    "\n",
    "Before you start, you will need to log on https://ltb.curent.utk.edu/. You will\n",
    "see an Certificate Error. Click \"Advanced\" near the lower-left corner, and then\n",
    "\"Proceed to ltb.curent.utk.edu\". If you haven't done so, please create a GitHub\n",
    "account and share it with Jinning Wang (jwang175@vols.utk.edu), so that he can\n",
    "give you access. \n",
    "\n",
    "Take a moment to familiarize yourself with the JupyterLab interface. Watch a\n",
    "tutorial here: https://www.youtube.com/watch?v=A5YyoCKxEOU. \n",
    "\n",
    "On JupyterLab, use the blue \"+\" button to create a new Terminal. Run\n",
    "the following commands in the new **terminal** (use Ctrl+v to paste the\n",
    "commands): \n",
    "\n",
    "```bash\n",
    "\n",
    "mkdir -p ~/repos && cd ~/repos\n",
    "\n",
    "git clone --single-branch -b ece https://github.com/jinningwang/andes.git \n",
    "\n",
    "cd ~/repos/andes && python -m pip install --user -e .\n",
    "\n",
    "echo \"export PATH=$PATH:/home/jovyan/.local/bin\" > ~/.bashrc && source ~/.bashrc\n",
    "\n",
    "```\n",
    "\n",
    "When done, check if your andes installation is correct by running the following command:\n",
    "\n",
    "```bash\n",
    "\n",
    "pip list\n",
    "\n",
    "```\n",
    "\n",
    "Scroll to the top and ensure that ``andes`` has an editable project location  at\n",
    "`/home/jovyan/repos/andes`. You should also be able to run the `andes` command\n",
    "from the command line."
   ]
  },
  {
   "attachments": {},
   "cell_type": "markdown",
   "metadata": {},
   "source": [
    "## Tutorial"
   ]
  },
  {
   "attachments": {},
   "cell_type": "markdown",
   "metadata": {},
   "source": [
    "**Read** the example [Simulate and Plot](https://docs.andes.app/en/latest/_examples/ex1.html) to see:\n",
    "\n",
    "- How to run a simulation\n",
    "- How to plot results"
   ]
  },
  {
   "attachments": {},
   "cell_type": "markdown",
   "metadata": {},
   "source": [
    "### Load system"
   ]
  },
  {
   "attachments": {},
   "cell_type": "markdown",
   "metadata": {},
   "source": [
    "Import the `andes` package and set the verbosity level."
   ]
  },
  {
   "cell_type": "code",
   "execution_count": null,
   "metadata": {},
   "outputs": [],
   "source": [
    "import andes\n",
    "andes.config_logger(stream_level=20)"
   ]
  },
  {
   "attachments": {},
   "cell_type": "markdown",
   "metadata": {},
   "source": [
    "ANDES ships with with test cases in the ``andes/cases`` folder. The cases can be\n",
    "found in the [online\n",
    "repository](https://github.com/cuihantao/andes/tree/master/andes/cases). One can\n",
    "use `andes.get_case` to load a case from the default case folder.\n",
    "\n",
    "ANDES configuration is loaded from the file ``$HOME/.andes/andes.rc``.\n",
    "A full list of configuration options can be found in the [Config reference](https://docs.andes.app/en/latest/configref.html#config-reference) section.\n",
    "\n",
    "If want to use default config, you can pass parameter ``default_config=True``.\n",
    "For more detail, you can refer to example [Run power flow by default](https://docs.andes.app/en/latest/_examples/ex1.html#run-power-flow-by-default)."
   ]
  },
  {
   "attachments": {},
   "cell_type": "markdown",
   "metadata": {},
   "source": [
    "**Exercise**: Run the ANDES test case `ieee14/ieee14_ace.xlsx` from the default\n",
    "case folder using **default config**."
   ]
  },
  {
   "cell_type": "markdown",
   "metadata": {},
   "source": [
    "In the following, you will replace `<**ANSWER**>` with your code."
   ]
  },
  {
   "cell_type": "code",
   "execution_count": null,
   "metadata": {},
   "outputs": [],
   "source": [
    "ss = andes.run(<**ANSWER**>,\n",
    "               default_config=True)"
   ]
  },
  {
   "attachments": {},
   "cell_type": "markdown",
   "metadata": {},
   "source": [
    "The command ``andes.run()`` not only **load** system but also **solve** the power flow.\n",
    "If you do not want to solve the power flow, you can use ``andes.load()`` instead."
   ]
  },
  {
   "attachments": {},
   "cell_type": "markdown",
   "metadata": {},
   "source": [
    "Use ``andes.load()`` to load the system without setting up the structure of the\n",
    "system. "
   ]
  },
  {
   "cell_type": "code",
   "execution_count": null,
   "metadata": {},
   "outputs": [],
   "source": [
    "ss = andes.load(andes.get_case('ieee14/ieee14_ace.xlsx'),\n",
    "                default_config=True,\n",
    "                setup=False)"
   ]
  },
  {
   "attachments": {},
   "cell_type": "markdown",
   "metadata": {},
   "source": [
    "Here you loaded a system but did not setup it, so you can add devices and setup the system manually.\n",
    "More information can be found from the documentation by command ``help(andes.load)``.\n",
    "\n",
    "In this exercise, you will implement a generator tripping by adding a `Toggle`.\n"
   ]
  },
  {
   "cell_type": "code",
   "execution_count": null,
   "metadata": {},
   "outputs": [],
   "source": [
    "print(ss.Toggle.doc())"
   ]
  },
  {
   "attachments": {},
   "cell_type": "markdown",
   "metadata": {},
   "source": [
    "**Exercise**: Add a `Toggle` to the system. The `Toggle` is used to trip `GENROU_2` at `1.0`s. You can refeter to example [Tripping a Generator in the IEEE 14-Bus System](https://docs.andes.app/en/latest/_examples/ex9.html?highlight=ss.add)."
   ]
  },
  {
   "cell_type": "code",
   "execution_count": null,
   "metadata": {},
   "outputs": [],
   "source": [
    "ss.add(\"Toggle\", dict(model='SynGen', dev= < **ANSWER**>, t= < **ANSWER**>,))"
   ]
  },
  {
   "attachments": {},
   "cell_type": "markdown",
   "metadata": {},
   "source": [
    "You can inspect the `Toggle` by function `as_df`."
   ]
  },
  {
   "cell_type": "code",
   "execution_count": null,
   "metadata": {},
   "outputs": [],
   "source": [
    "ss.Toggle.as_df()"
   ]
  },
  {
   "attachments": {},
   "cell_type": "markdown",
   "metadata": {},
   "source": [
    "Setup the system manually."
   ]
  },
  {
   "cell_type": "code",
   "execution_count": null,
   "metadata": {},
   "outputs": [],
   "source": [
    "ss.setup()"
   ]
  },
  {
   "attachments": {},
   "cell_type": "markdown",
   "metadata": {},
   "source": [
    "Disable the first two `Toggle`s that are used for line switching."
   ]
  },
  {
   "cell_type": "code",
   "execution_count": null,
   "metadata": {},
   "outputs": [],
   "source": [
    "ss.Toggle.u.v[[0, 1]] = 0"
   ]
  },
  {
   "attachments": {},
   "cell_type": "markdown",
   "metadata": {},
   "source": [
    "### Run Analysis Routines"
   ]
  },
  {
   "attachments": {},
   "cell_type": "markdown",
   "metadata": {},
   "source": [
    "ANDES supports three analysis routines currently: **power flow**, **time-domain simulation (TDS)**, and **eigenvalue analysis**."
   ]
  },
  {
   "attachments": {},
   "cell_type": "markdown",
   "metadata": {},
   "source": [
    "Solve power flow."
   ]
  },
  {
   "cell_type": "code",
   "execution_count": null,
   "metadata": {},
   "outputs": [],
   "source": [
    "ss.PFlow.run()"
   ]
  },
  {
   "attachments": {},
   "cell_type": "markdown",
   "metadata": {},
   "source": [
    "**Exercise**: Change the TDS finish time to `30`s. You can refer to example [Run time-domain simulation](https://docs.andes.app/en/latest/_examples/ex1.html?highlight=config.tf#id1)."
   ]
  },
  {
   "cell_type": "code",
   "execution_count": null,
   "metadata": {},
   "outputs": [],
   "source": [
    "ss.TDS.config.tf = <**ANSWER**>"
   ]
  },
  {
   "attachments": {},
   "cell_type": "markdown",
   "metadata": {},
   "source": [
    "We need to disable the stability checking criteria for the TDS. The criteria stops\n",
    "simulations once the maximam rotor angle deviation exceeds 180 degrees.\n",
    "\n",
    "You can refer to [Release notes\n",
    "v1.6.5](https://docs.andes.app/en/latest/release-notes.html?highlight=criteria#v1-6-5-2022-04-19)."
   ]
  },
  {
   "cell_type": "code",
   "execution_count": null,
   "metadata": {},
   "outputs": [],
   "source": [
    "ss.TDS.config.criteria = 0"
   ]
  },
  {
   "attachments": {},
   "cell_type": "markdown",
   "metadata": {},
   "source": [
    "Run the TDS."
   ]
  },
  {
   "cell_type": "code",
   "execution_count": null,
   "metadata": {},
   "outputs": [],
   "source": [
    "ss.TDS.run()"
   ]
  },
  {
   "attachments": {},
   "cell_type": "markdown",
   "metadata": {},
   "source": [
    "Check if the TDS is converged. You can refer to example [Checking Exit Code](https://docs.andes.app/en/latest/getting_started/tutorial/interactive.html?highlight=exit_code#checking-exit-code)."
   ]
  },
  {
   "cell_type": "code",
   "execution_count": null,
   "metadata": {},
   "outputs": [],
   "source": [
    "ss.exit_code"
   ]
  },
  {
   "attachments": {},
   "cell_type": "markdown",
   "metadata": {},
   "source": [
    "### Plot Results"
   ]
  },
  {
   "attachments": {},
   "cell_type": "markdown",
   "metadata": {},
   "source": [
    "ANDES provides a convenient way to plot the results. You can refer to example [Additional arguments](https://docs.andes.app/en/latest/_examples/ex1.html#additional-arguments) for more information of plot function."
   ]
  },
  {
   "attachments": {},
   "cell_type": "markdown",
   "metadata": {},
   "source": [
    "Note: some Jupyter notebooks may not support inline plots. You can use the following command to enable it.\n",
    "\n",
    "```python\n",
    "\n",
    "import matplotlib\n",
    "%matplotlib inline\n",
    "\n",
    "```\n",
    "\n",
    "If you want to use the more interactive backend based on Plotly, which allows\n",
    "you to select and zoom, you can do the following:\n",
    "\n",
    "```python\n",
    "\n",
    "import matplotlib\n",
    "%matplotlib widget\n",
    "\n",
    "```"
   ]
  },
  {
   "cell_type": "code",
   "execution_count": null,
   "metadata": {},
   "outputs": [],
   "source": [
    "import matplotlib\n",
    "%matplotlib inline"
   ]
  },
  {
   "attachments": {},
   "cell_type": "markdown",
   "metadata": {},
   "source": [
    "**Exercise**: Plot the generator speed of ``GENROU 1``, ``GENROU 2``, and ``GENROU 3`` with scaling to 60 Hz nominal values. You can refer to examples [Plotting by variable](https://docs.andes.app/en/latest/getting_started/tutorial/interactive.html?highlight=exit_code#checking-exit-code) and [Scaling](https://docs.andes.app/en/latest/_examples/ex1.html#scaling)."
   ]
  },
  {
   "cell_type": "code",
   "execution_count": null,
   "metadata": {},
   "outputs": [],
   "source": [
    "ss.TDS.plt.plot(ss.GENROU.omega,\n",
    "                a=<**ANSWER**>,\n",
    "                ycalc=<**ANSWER**>,\n",
    "                )"
   ]
  },
  {
   "attachments": {},
   "cell_type": "markdown",
   "metadata": {},
   "source": [
    "Run eigenvalue analysis."
   ]
  },
  {
   "cell_type": "code",
   "execution_count": null,
   "metadata": {},
   "outputs": [],
   "source": [
    "ss.EIG.run()"
   ]
  },
  {
   "attachments": {},
   "cell_type": "markdown",
   "metadata": {},
   "source": [
    "**Exercise**: Plot the eigenvalue analysis results with x-axis in range ``[-1, 0.1]``. You can refer to the documentation [EIG.plot](https://docs.andes.app/en/latest/_generated/_generated/andes.routines.eig.EIG.plot.html?highlight=EIG.plot#eig-plot)."
   ]
  },
  {
   "attachments": {},
   "cell_type": "markdown",
   "metadata": {},
   "source": [
    "Note: one can use the Python built-in function `help` to get the documentation of a function.\n",
    "\n",
    "```python\n",
    "\n",
    "help(ss.EIG.plot)\n",
    "\n",
    "```\n",
    "\n",
    "The shorthand for this in Jupyter notebooks is `?`.\n",
    "\n",
    "```python\n",
    "\n",
    "?ss.EIG.plot\n",
    "\n",
    "```\n"
   ]
  },
  {
   "cell_type": "code",
   "execution_count": null,
   "metadata": {},
   "outputs": [],
   "source": [
    "ss.EIG.plot(left=<**ANSWER**>, right=<**ANSWER**>)"
   ]
  },
  {
   "attachments": {},
   "cell_type": "markdown",
   "metadata": {},
   "source": [
    "### Working with Data"
   ]
  },
  {
   "attachments": {},
   "cell_type": "markdown",
   "metadata": {},
   "source": [
    "**Exercise**: Extract the data for generator electric power ``GENROU.Pe``. You can refer to the example [Extracting Variable Data](https://docs.andes.app/en/latest/_examples/ex2.html#extracting-variable-data)."
   ]
  },
  {
   "cell_type": "code",
   "execution_count": null,
   "metadata": {},
   "outputs": [],
   "source": [
    "Pe = ss.dae.ts.<**ANSWER**>[:, <**ANSWER**>]"
   ]
  },
  {
   "attachments": {},
   "cell_type": "markdown",
   "metadata": {},
   "source": [
    "Plot out the extracted data."
   ]
  },
  {
   "cell_type": "code",
   "execution_count": null,
   "metadata": {},
   "outputs": [],
   "source": [
    "ss.TDS.plt.plot_data(ss.dae.ts.t, Pe)"
   ]
  },
  {
   "attachments": {},
   "cell_type": "markdown",
   "metadata": {},
   "source": [
    "Cleanup"
   ]
  },
  {
   "cell_type": "code",
   "execution_count": null,
   "metadata": {},
   "outputs": [],
   "source": [
    "!andes misc -C"
   ]
  }
 ],
 "metadata": {
  "kernelspec": {
   "display_name": "a",
   "language": "python",
   "name": "python3"
  },
  "language_info": {
   "codemirror_mode": {
    "name": "ipython",
    "version": 3
   },
   "file_extension": ".py",
   "mimetype": "text/x-python",
   "name": "python",
   "nbconvert_exporter": "python",
   "pygments_lexer": "ipython3",
   "version": "3.10.8"
  },
  "orig_nbformat": 4,
  "vscode": {
   "interpreter": {
    "hash": "9e82087c6c724a796d11bbbca032c2fea9f2a8500ea883496f2915648d5c9903"
   }
  }
 },
 "nbformat": 4,
 "nbformat_minor": 2
}
