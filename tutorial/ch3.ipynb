{
 "cells": [
  {
   "attachments": {},
   "cell_type": "markdown",
   "metadata": {},
   "source": [
    "# Chapter 3 - Critical Clearing Time"
   ]
  },
  {
   "attachments": {},
   "cell_type": "markdown",
   "metadata": {},
   "source": [
    "## Introduction"
   ]
  },
  {
   "attachments": {},
   "cell_type": "markdown",
   "metadata": {},
   "source": [
    "The Critical Clearing Time (CCT) is the maximum time interval by which the fault must be cleared in order to preserve the system stability.\n",
    "This CCT is a measure of the system transient stability.\n",
    "\n",
    "There are many ways to improve the transient stability of a power system.\n",
    "One common way is to increase the exciter gain.\n",
    "\n",
    "A more comprehensive review of power system stability is given in:\n",
    "\n",
    "> N. Hatziargyriou et al., \"Definition and Classification of Power System Stability – Revisited & Extended,\" in IEEE Transactions on Power Systems, vol. 36, no. 4, pp. 3271-3281, July 2021, doi: [10.1109/TPWRS.2020.3041774](https://ieeexplore.ieee.org/document/9286772)."
   ]
  },
  {
   "cell_type": "markdown",
   "metadata": {},
   "source": [
    "## Objective"
   ]
  },
  {
   "attachments": {},
   "cell_type": "markdown",
   "metadata": {},
   "source": [
    "In this chapter, you will learn how to:\n",
    "- find the critical clearing time of the WECC system\n",
    "- improve the system transient stability by increase the exciter gain"
   ]
  },
  {
   "attachments": {},
   "cell_type": "markdown",
   "metadata": {},
   "source": [
    "After complete the chapter, please save and submit this jupyter notebook file in **CANVAS** with **FORMATTED** name:\n",
    "\n",
    "`FirstName_LastName_NetID_ChID.ipynb`, for example, `Tim_Cook_tcook3_Ch3.ipynb`."
   ]
  },
  {
   "attachments": {},
   "cell_type": "markdown",
   "metadata": {},
   "source": [
    "## Contingency Analysis"
   ]
  },
  {
   "attachments": {},
   "cell_type": "markdown",
   "metadata": {},
   "source": [
    "### Stable Case"
   ]
  },
  {
   "cell_type": "code",
   "execution_count": null,
   "metadata": {},
   "outputs": [],
   "source": [
    "import numpy as np\n",
    "import matplotlib.pyplot as plt\n",
    "import logging\n",
    "\n",
    "import andes\n",
    "andes.config_logger(stream_level=50)\n",
    "\n",
    "import matplotlib.pyplot as plt\n",
    "%matplotlib inline"
   ]
  },
  {
   "cell_type": "code",
   "execution_count": null,
   "metadata": {},
   "outputs": [],
   "source": [
    "ss = andes.load(andes.get_case('wecc/wecc_full.xlsx'),\n",
    "                default_config=True,\n",
    "                setup=False,\n",
    "                no_output=True)"
   ]
  },
  {
   "attachments": {},
   "cell_type": "markdown",
   "metadata": {},
   "source": [
    "Add ``Toggle`` for line tripping. One acts at 1.0 seconds and the other acts at 1.5 seconds."
   ]
  },
  {
   "cell_type": "code",
   "execution_count": null,
   "metadata": {},
   "outputs": [],
   "source": [
    "ss.add('Toggle', dict(model=\"Line\", dev=\"Line_2\", t=1.0))\n",
    "ss.add('Toggle', dict(model=\"Line\", dev=\"Line_2\", t=1.5))\n",
    "ss.setup()"
   ]
  },
  {
   "attachments": {},
   "cell_type": "markdown",
   "metadata": {},
   "source": [
    "Solve power flow"
   ]
  },
  {
   "cell_type": "code",
   "execution_count": null,
   "metadata": {},
   "outputs": [],
   "source": [
    "ss.PFlow.run()"
   ]
  },
  {
   "attachments": {},
   "cell_type": "markdown",
   "metadata": {},
   "source": [
    "Turn off the ``criteria`` and run TDS to ``30``s."
   ]
  },
  {
   "cell_type": "code",
   "execution_count": null,
   "metadata": {},
   "outputs": [],
   "source": [
    "ss.TDS.config.criteria = 0\n",
    "ss.TDS.config.tf = 30\n",
    "ss.TDS.run()"
   ]
  },
  {
   "cell_type": "code",
   "execution_count": null,
   "metadata": {},
   "outputs": [],
   "source": [
    "fig, ax = plt.subplots(1, 2, figsize=(10, 3))\n",
    "\n",
    "ss.TDS.plt.plot(ss.GENROU.delta,\n",
    "                ytimes=180 / np.pi,\n",
    "                ylabel=r'$\\delta$ [deg]',\n",
    "                grid=True, title='Generator angle',\n",
    "                ax=ax[0], fig=fig, show=False)\n",
    "\n",
    "ss.TDS.plt.plot(ss.GENROU.omega,\n",
    "                ytimes=60,\n",
    "                ylabel=r'Freq. [Hz]',\n",
    "                grid=True, title='System frequency',\n",
    "                ax=ax[1], fig=fig, show=False)"
   ]
  },
  {
   "attachments": {},
   "cell_type": "markdown",
   "metadata": {},
   "source": [
    "From the figure above, we can see that with 0.5s fault clearing time, the system is stable."
   ]
  },
  {
   "attachments": {},
   "cell_type": "markdown",
   "metadata": {},
   "source": [
    "### Unstable Case"
   ]
  },
  {
   "attachments": {},
   "cell_type": "markdown",
   "metadata": {},
   "source": [
    "**Exercise**: Check if the system is stable with fault clearing time being ``1``s."
   ]
  },
  {
   "cell_type": "code",
   "execution_count": null,
   "metadata": {},
   "outputs": [],
   "source": [
    "ss = andes.load(andes.get_case('wecc/wecc_full.xlsx'),\n",
    "                default_config=True,\n",
    "                setup=False,\n",
    "                no_output=True)\n",
    "\n",
    "ss.add('Toggle', dict(model=\"Line\", dev=\"Line_2\", t=1.0))\n",
    "ss.add('Toggle', dict(model=\"Line\", dev=\"Line_2\", t=<**ANSWER**>))\n",
    "ss.setup()\n",
    "\n",
    "ss.PFlow.run()\n",
    "\n",
    "ss.TDS.config.criteria = 0\n",
    "ss.TDS.config.tf = 30\n",
    "ss.TDS.run()"
   ]
  },
  {
   "cell_type": "code",
   "execution_count": null,
   "metadata": {},
   "outputs": [],
   "source": [
    "fig, ax = plt.subplots(1, 2, figsize=(10, 3))\n",
    "\n",
    "ss.TDS.plt.plot(ss.GENROU.delta,\n",
    "                ytimes=180 / np.pi,\n",
    "                ylabel=r'$\\delta$ [deg]',\n",
    "                grid=False, title='Generator angle',\n",
    "                ax=ax[0], fig=fig, show=False,\n",
    "                hline1=-49, hline2=155,\n",
    "                vline1=2.3)\n",
    "\n",
    "ss.TDS.plt.plot(ss.GENROU.omega,\n",
    "                ytimes=60,\n",
    "                ylabel=r'Freq. [Hz]',\n",
    "                grid=True, title='System frequency',\n",
    "                ax=ax[1], fig=fig, show=False)"
   ]
  },
  {
   "attachments": {},
   "cell_type": "markdown",
   "metadata": {},
   "source": [
    "From the figure above, you should see that with increased fault clearing time, the maximum delta angle is larger than 180 degree, which means the system is unstable."
   ]
  },
  {
   "attachments": {},
   "cell_type": "markdown",
   "metadata": {},
   "source": [
    "## Find CCT"
   ]
  },
  {
   "attachments": {},
   "cell_type": "markdown",
   "metadata": {},
   "source": [
    "Now, let us find the CCT of the WECC system."
   ]
  },
  {
   "attachments": {},
   "cell_type": "markdown",
   "metadata": {},
   "source": [
    "**Exercise**: First, let us define a function to check if the system is stable based on the rotor angle seperation criteria."
   ]
  },
  {
   "cell_type": "code",
   "execution_count": null,
   "metadata": {},
   "outputs": [],
   "source": [
    "def check_stable(ss, delta_limit):\n",
    "    \"\"\"\n",
    "    Check if the system is stable after the fault.\n",
    "\n",
    "    Parameters\n",
    "    ----------\n",
    "    ss: andes.core.system.System\n",
    "        ANDES system instance that have been setup\n",
    "    delta_limit: float\n",
    "        Maximum delta angle difference in degree\n",
    "    \n",
    "    Returns\n",
    "    -------\n",
    "    res: bool\n",
    "        True if the system is stable\n",
    "    \"\"\"\n",
    "    ss.PFlow.run()  # run power flow\n",
    "\n",
    "    ss.TDS.config.no_tqdm = 1  # turn off the progress bar\n",
    "    ss.TDS.config.tf = 20  # simulation time\n",
    "    ss.TDS.config.criteria = 0  # turn off the criteria check\n",
    "    ss.TDS.run()\n",
    "\n",
    "    delta = ss.dae.ts.x[:, <**ANSWER**>]  # extract delta angle of GENROU\n",
    "    diff_max = np.max(delta - np.min(delta))  # maximum delta angle difference\n",
    "\n",
    "    res = (diff_max < np.deg2rad(delta_limit)).tolist()  # check if the system is stable\n",
    "\n",
    "    return res"
   ]
  },
  {
   "cell_type": "code",
   "execution_count": null,
   "metadata": {},
   "outputs": [],
   "source": [
    "def sys_modify(ss, ct, rf_exc=False):\n",
    "    \"\"\"\n",
    "    Modify the system and set it up.\n",
    "\n",
    "    Parameters\n",
    "    ----------\n",
    "    ss: andes.core.system.System\n",
    "        ANDES system instance that have NOT been setup\n",
    "    ct: float\n",
    "        fault clearing time\n",
    "    rf_exc: bool\n",
    "        True to reinforce exciter\n",
    "\n",
    "    Return\n",
    "    ------\n",
    "    ss: andes.core.system.System\n",
    "        Modified ANDES system instance that have been setup\n",
    "    \"\"\"\n",
    "    # --- Fault ---\n",
    "    t0 = 1  # fault time\n",
    "    ss.add('Toggle', dict(model=\"Line\", dev=\"Line_2\", t=t0))  # add fault\n",
    "    # add fault clearing\n",
    "    ss.add('Toggle', dict(model=\"Line\", dev=\"Line_2\", t=t0 + ct))\n",
    "\n",
    "    # --- setup ---\n",
    "    ss.setup()\n",
    "\n",
    "    # --- Exciter adjustment to improvt CCT ---\n",
    "    # NOTE: Skip this part for the first time\n",
    "    # NOTE: Uncomment and complete the following lines\n",
    "    # if rf_exc:\n",
    "    #     exc_gain = <**ANSWER**>\n",
    "    #     ss.EXST1.set(src= <**ANSWER**>,\n",
    "    #                  attr='v',\n",
    "    #                  idx=ss.EXST1.idx.v,\n",
    "    #                  value= 1.2 * exc_gain)\n",
    "\n",
    "    return ss\n"
   ]
  },
  {
   "attachments": {},
   "cell_type": "markdown",
   "metadata": {},
   "source": [
    "**Exercise**: Then, let us find the CCT using the bisection method."
   ]
  },
  {
   "cell_type": "code",
   "execution_count": null,
   "metadata": {},
   "outputs": [],
   "source": [
    "def cct(case, delta_limit, rf_exc=False):\n",
    "    \"\"\"\n",
    "    Find the critical clearing time for the system by bisection method.\n",
    "\n",
    "    Parameters\n",
    "    ----------\n",
    "    case: str\n",
    "        Case name\n",
    "    delta_limit: float\n",
    "        Maximum delta angle difference in degree\n",
    "    rf_exc: bool\n",
    "        True to reinforce exciter\n",
    "    \n",
    "    Returns\n",
    "    -------\n",
    "    ct: float\n",
    "        Critical clearing time\n",
    "    ss: andes.core.system.System\n",
    "        ANDES system instance that run the simulation\n",
    "    \"\"\"\n",
    "    # --- initialization ---\n",
    "    ct = 1  # clearing time\n",
    "    ct0 = -1  # previous clearing time\n",
    "    ct0_s = 0  # previous stable clearing time\n",
    "    ct0_u = 2 * ct  # previous unstable clearing time\n",
    "    res = False  # result\n",
    "    n_iter = 0  # iteration counter\n",
    "\n",
    "    # --- bisection method ---\n",
    "    print(\"Exciter reinforcement: %r\" % rf_exc)\n",
    "    while n_iter < 100:  # max iterations\n",
    "        ss = andes.load(case=case, default_config=True,\n",
    "                        setup=False, no_output=True)\n",
    "        ss = sys_modify(ss=ss, ct=ct, rf_exc=rf_exc)\n",
    "        res = check_stable(ss=ss, delta_limit=delta_limit)\n",
    "\n",
    "        # --- bisection method ---\n",
    "        ct0 = ct\n",
    "        if res: # stable, increase ct\n",
    "            ct0_s = ct\n",
    "            ct = 0.5 * (<**ANSWER**>)\n",
    "        else:  # unstable, reduce ct\n",
    "            ct0_u = ct\n",
    "            ct = 0.5 * (<**ANSWER**>)\n",
    "\n",
    "        # --- exit condition ---\n",
    "        ct_span = np.abs(ct0_u - ct0_s)\n",
    "        print(\"Iter %d: CT=%f sec; Stable=%r\" % (n_iter, ct, res))\n",
    "        n_iter += 1\n",
    "        if res & (ct_span > 0) & (ct_span < 1e-3):  # convergence\n",
    "            return ct, ss\n",
    "    return ct, ss\n"
   ]
  },
  {
   "attachments": {},
   "cell_type": "markdown",
   "metadata": {},
   "source": [
    "Find the CCT of the WECC system."
   ]
  },
  {
   "cell_type": "code",
   "execution_count": null,
   "metadata": {},
   "outputs": [],
   "source": [
    "ct, ssr = cct(case=andes.get_case('wecc/wecc_full.xlsx'),\n",
    "              delta_limit=180, rf_exc=False)\n"
   ]
  },
  {
   "cell_type": "code",
   "execution_count": null,
   "metadata": {},
   "outputs": [],
   "source": [
    "ct"
   ]
  },
  {
   "attachments": {},
   "cell_type": "markdown",
   "metadata": {},
   "source": [
    "## Improve the transient stability"
   ]
  },
  {
   "attachments": {},
   "cell_type": "markdown",
   "metadata": {},
   "source": [
    "There are many ways to improve the transient stability of a power system.\n",
    "One common way is to increase the exciter gain.\n",
    "\n",
    "You can inspect the existing ``Exciter`` devices in the system. As shown below, there are three types of exciter in the WECC system.\n",
    "\n",
    "The block diagrams of ``EXST1_PTI`` can be found at [Exciter Model: EXST1_PTI](https://www.powerworld.com/WebHelp/Content/TransientModels_HTML/Exciter%20EXST1_PTI.htm?tocpath=Transient%20Stability%20Add-On%20(TS)%7CTransient%20Models%7CGenerator%7CExciter%7C_____66).\n"
   ]
  },
  {
   "cell_type": "code",
   "execution_count": null,
   "metadata": {},
   "outputs": [],
   "source": [
    "ss.Exciter.models"
   ]
  },
  {
   "attachments": {},
   "cell_type": "markdown",
   "metadata": {},
   "source": [
    "Now, you can improve the system transient stability by increasing the exciter gain.\n",
    "In the above code block function ``sys_modify``, you need to complete the code block.\n",
    "\n",
    "After updating the function, rerun that function code block to make it effective (or you also can rerun the entire notebook)."
   ]
  },
  {
   "attachments": {},
   "cell_type": "markdown",
   "metadata": {},
   "source": [
    "Find the critical clearing time of the improved system"
   ]
  },
  {
   "cell_type": "code",
   "execution_count": null,
   "metadata": {},
   "outputs": [],
   "source": [
    "ct2, ssr2 = cct(case=andes.get_case('wecc/wecc_full.xlsx'),\n",
    "                delta_limit=180, rf_exc=True)\n"
   ]
  },
  {
   "cell_type": "code",
   "execution_count": null,
   "metadata": {},
   "outputs": [],
   "source": [
    "ct2"
   ]
  },
  {
   "cell_type": "code",
   "execution_count": null,
   "metadata": {},
   "outputs": [],
   "source": [
    "ct2 - ct"
   ]
  },
  {
   "attachments": {},
   "cell_type": "markdown",
   "metadata": {},
   "source": [
    "Cleanup"
   ]
  },
  {
   "cell_type": "code",
   "execution_count": null,
   "metadata": {},
   "outputs": [],
   "source": [
    "!andes misc -C"
   ]
  }
 ],
 "metadata": {
  "kernelspec": {
   "display_name": "Python 3",
   "language": "python",
   "name": "python3"
  },
  "language_info": {
   "codemirror_mode": {
    "name": "ipython",
    "version": 3
   },
   "file_extension": ".py",
   "mimetype": "text/x-python",
   "name": "python",
   "nbconvert_exporter": "python",
   "pygments_lexer": "ipython3",
   "version": "3.10.6 (main, Nov 14 2022, 16:10:14) [GCC 11.3.0]"
  },
  "orig_nbformat": 4,
  "vscode": {
   "interpreter": {
    "hash": "916dbcbb3f70747c44a77c7bcd40155683ae19c65e1c03b4aa3499c5328201f1"
   }
  }
 },
 "nbformat": 4,
 "nbformat_minor": 2
}
